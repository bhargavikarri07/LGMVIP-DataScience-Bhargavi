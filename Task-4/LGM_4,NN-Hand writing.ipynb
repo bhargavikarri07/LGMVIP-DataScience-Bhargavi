{
 "cells": [
  {
   "cell_type": "markdown",
   "id": "ee14a74d",
   "metadata": {},
   "source": [
    "### LetsGrowMore (LGMVIP) - \"DATA SCIENCE INTERN\"\n",
    "\n",
    "### LGMVIP July-22\n",
    "\n",
    "### AUTHOR - Bhargavi Karri\n",
    "\n",
    "### Advanced Level Task\n",
    "\n",
    "### TASK-4- Develop A Neural Network That Can Read Handwriting \n",
    "\n",
    "Begin my neural network machine learning project with the MNIST Handwritten Digit Classification Challenge and using Tensorflow and CNN. It has a very user-friendly interface that’s ideal for beginners.\n",
    "\n",
    "### Dataset link : https://en.wikipedia.org/wiki/MNIST_database"
   ]
  },
  {
   "cell_type": "code",
   "execution_count": null,
   "id": "6486ddd6",
   "metadata": {},
   "outputs": [],
   "source": [
    "### Importing Libraries"
   ]
  },
  {
   "cell_type": "code",
   "execution_count": 8,
   "id": "926f1a7a",
   "metadata": {},
   "outputs": [],
   "source": [
    "import tensorflow as tf\n",
    "import numpy as np\n",
    "import matplotlib.pyplot as plt\n",
    "import seaborn as sn"
   ]
  },
  {
   "cell_type": "code",
   "execution_count": 9,
   "id": "8e2fcc2d",
   "metadata": {},
   "outputs": [],
   "source": [
    "(x_train,y_train),(x_test,y_test) = tf.keras.datasets.mnist.load_data()"
   ]
  },
  {
   "cell_type": "markdown",
   "id": "de2c794d",
   "metadata": {},
   "source": [
    "### plotting count plot"
   ]
  },
  {
   "cell_type": "code",
   "execution_count": 55,
   "id": "fdc47eb2",
   "metadata": {},
   "outputs": [
    {
     "name": "stderr",
     "output_type": "stream",
     "text": [
      "C:\\ProgramData\\Anaconda3\\lib\\site-packages\\seaborn\\_decorators.py:36: FutureWarning: Pass the following variable as a keyword arg: x. From version 0.12, the only valid positional argument will be `data`, and passing other arguments without an explicit keyword will result in an error or misinterpretation.\n",
      "  warnings.warn(\n"
     ]
    },
    {
     "data": {
      "text/plain": [
       "<AxesSubplot:ylabel='count'>"
      ]
     },
     "execution_count": 55,
     "metadata": {},
     "output_type": "execute_result"
    },
    {
     "data": {
      "image/png": "[encoded data removed]",
      "text/plain": [
       "<Figure size 504x360 with 1 Axes>"
      ]
     },
     "metadata": {
      "needs_background": "light"
     },
     "output_type": "display_data"
    }
   ],
   "source": [
    "plt.figure(figsize = (7,5))\n",
    "sn.countplot(y_train,color = 'black')"
   ]
  },
  {
   "cell_type": "markdown",
   "id": "167a2d03",
   "metadata": {},
   "source": [
    "### Displaying some images"
   ]
  },
  {
   "cell_type": "code",
   "execution_count": 11,
   "id": "0d184188",
   "metadata": {},
   "outputs": [
    {
     "data": {
      "image/png": "[encoded data removed]",
      "text/plain": [
       "<Figure size 1080x360 with 7 Axes>"
      ]
     },
     "metadata": {
      "needs_background": "light"
     },
     "output_type": "display_data"
    }
   ],
   "source": [
    "### Dataset properties\n",
    "fig,axes = plt.subplots(ncols=7,sharex=False,\n",
    "                       sharey=True,figsize=(15,5))\n",
    "for i in range(7):\n",
    "    axes[i].set_title(y_train[i])\n",
    "    axes[i].imshow(x_train[i],cmap='viridis')\n",
    "    axes[i].get_xaxis().set_visible(False)\n",
    "    axes[i].get_yaxis().set_visible(False)\n",
    "plt.show()"
   ]
  },
  {
   "cell_type": "code",
   "execution_count": 12,
   "id": "3b62afeb",
   "metadata": {},
   "outputs": [
    {
     "name": "stdout",
     "output_type": "stream",
     "text": [
      "Training data shape :  (60000, 28, 28)\n",
      "Testing data shape :  (10000, 28, 28)\n"
     ]
    }
   ],
   "source": [
    "### preprocessing the data\n",
    "print('Training data shape : ',x_train.shape)\n",
    "print('Testing data shape : ',x_test.shape)"
   ]
  },
  {
   "cell_type": "code",
   "execution_count": 13,
   "id": "7f0d5a0e",
   "metadata": {},
   "outputs": [],
   "source": [
    "x_train = x_train.reshape(x_train.shape[0], 28, 28, 1)\n",
    "x_test = x_test.reshape(x_test.shape[0], 28, 28, 1)\n",
    "input_shape = (28, 28, 1)"
   ]
  },
  {
   "cell_type": "code",
   "execution_count": 14,
   "id": "22903557",
   "metadata": {},
   "outputs": [],
   "source": [
    "#applying normalization\n",
    "x_train=x_train/255.0\n",
    "x_testg=x_test/255.0\n",
    "num_classes = 10"
   ]
  },
  {
   "cell_type": "markdown",
   "id": "35fb504d",
   "metadata": {},
   "source": [
    "### creating the model"
   ]
  },
  {
   "cell_type": "code",
   "execution_count": 15,
   "id": "cfd6a43b",
   "metadata": {},
   "outputs": [],
   "source": [
    "### model architecture\n",
    "from tensorflow.keras.models import Sequential\n",
    "from tensorflow.keras.layers import Dense,Dropout,Flatten,Activation\n",
    "from tensorflow.keras.layers import Conv2D,MaxPooling2D\n",
    "from tensorflow.keras.layers import BatchNormalization"
   ]
  },
  {
   "cell_type": "code",
   "execution_count": 17,
   "id": "c4a0bd6f",
   "metadata": {},
   "outputs": [],
   "source": [
    "model = Sequential()\n",
    "\n",
    "model.add(Conv2D(128, kernel_size=(3,3),activation=tf.nn.relu,input_shape=input_shape))\n",
    "model.add(BatchNormalization())\n",
    "model.add(Dropout(0.3))\n",
    "\n",
    "model.add(Conv2D(64,(3,3),activation=tf.nn.relu))\n",
    "model.add(BatchNormalization())\n",
    "model.add(Dropout(0.3))\n",
    "          \n",
    "model.add(Conv2D(32,(3,3),activation=tf.nn.relu))\n",
    "model.add(BatchNormalization())\n",
    "model.add(Dropout(0.3))   \n",
    "\n",
    "model.add(MaxPooling2D(pool_size=(2,2)))\n",
    "model.add(Dropout(0.3))\n",
    "model.add(Flatten())\n",
    "model.add(Dense(128,activation=tf.nn.relu))\n",
    "model.add(Dropout(0.3))\n",
    "model.add(Dense(num_classes, activation=tf.nn.softmax))          "
   ]
  },
  {
   "cell_type": "code",
   "execution_count": 18,
   "id": "d74c39ba",
   "metadata": {},
   "outputs": [
    {
     "name": "stdout",
     "output_type": "stream",
     "text": [
      "Model: \"sequential_2\"\n",
      "_________________________________________________________________\n",
      " Layer (type)                Output Shape              Param #   \n",
      "=================================================================\n",
      " conv2d_3 (Conv2D)           (None, 26, 26, 128)       1280      \n",
      "                                                                 \n",
      " batch_normalization_3 (Batc  (None, 26, 26, 128)      512       \n",
      " hNormalization)                                                 \n",
      "                                                                 \n",
      " dropout_4 (Dropout)         (None, 26, 26, 128)       0         \n",
      "                                                                 \n",
      " conv2d_4 (Conv2D)           (None, 24, 24, 64)        73792     \n",
      "                                                                 \n",
      " batch_normalization_4 (Batc  (None, 24, 24, 64)       256       \n",
      " hNormalization)                                                 \n",
      "                                                                 \n",
      " dropout_5 (Dropout)         (None, 24, 24, 64)        0         \n",
      "                                                                 \n",
      " conv2d_5 (Conv2D)           (None, 22, 22, 32)        18464     \n",
      "                                                                 \n",
      " batch_normalization_5 (Batc  (None, 22, 22, 32)       128       \n",
      " hNormalization)                                                 \n",
      "                                                                 \n",
      " dropout_6 (Dropout)         (None, 22, 22, 32)        0         \n",
      "                                                                 \n",
      " max_pooling2d_1 (MaxPooling  (None, 11, 11, 32)       0         \n",
      " 2D)                                                             \n",
      "                                                                 \n",
      " dropout_7 (Dropout)         (None, 11, 11, 32)        0         \n",
      "                                                                 \n",
      " flatten_1 (Flatten)         (None, 3872)              0         \n",
      "                                                                 \n",
      " dense (Dense)               (None, 128)               495744    \n",
      "                                                                 \n",
      " dropout_8 (Dropout)         (None, 128)               0         \n",
      "                                                                 \n",
      " dense_1 (Dense)             (None, 10)                1290      \n",
      "                                                                 \n",
      "=================================================================\n",
      "Total params: 591,466\n",
      "Trainable params: 591,018\n",
      "Non-trainable params: 448\n",
      "_________________________________________________________________\n"
     ]
    }
   ],
   "source": [
    "model.summary()"
   ]
  },
  {
   "cell_type": "markdown",
   "id": "122e08f5",
   "metadata": {},
   "source": [
    "### Training the model"
   ]
  },
  {
   "cell_type": "code",
   "execution_count": 19,
   "id": "41f7e4e0",
   "metadata": {},
   "outputs": [
    {
     "name": "stdout",
     "output_type": "stream",
     "text": [
      "Epoch 1/10\n",
      "1688/1688 [==============================] - 331s 195ms/step - loss: 0.2626 - accuracy: 0.9226 - val_loss: 0.0852 - val_accuracy: 0.9805\n",
      "Epoch 2/10\n",
      "1688/1688 [==============================] - 322s 191ms/step - loss: 0.1130 - accuracy: 0.9674 - val_loss: 0.0749 - val_accuracy: 0.9827\n",
      "Epoch 3/10\n",
      "1688/1688 [==============================] - 315s 187ms/step - loss: 0.0862 - accuracy: 0.9749 - val_loss: 0.0940 - val_accuracy: 0.9830\n",
      "Epoch 4/10\n",
      "1688/1688 [==============================] - 329s 195ms/step - loss: 0.0757 - accuracy: 0.9779 - val_loss: 0.0835 - val_accuracy: 0.9850\n",
      "Epoch 5/10\n",
      "1688/1688 [==============================] - 370s 219ms/step - loss: 0.0623 - accuracy: 0.9820 - val_loss: 0.1669 - val_accuracy: 0.9753\n",
      "Epoch 6/10\n",
      "1688/1688 [==============================] - 375s 222ms/step - loss: 0.0561 - accuracy: 0.9836 - val_loss: 0.1561 - val_accuracy: 0.9743\n",
      "Epoch 7/10\n",
      "1688/1688 [==============================] - 371s 220ms/step - loss: 0.0491 - accuracy: 0.9851 - val_loss: 0.1414 - val_accuracy: 0.9813\n",
      "Epoch 8/10\n",
      "1688/1688 [==============================] - 367s 217ms/step - loss: 0.0462 - accuracy: 0.9864 - val_loss: 0.1349 - val_accuracy: 0.9820\n",
      "Epoch 9/10\n",
      "1688/1688 [==============================] - 383s 227ms/step - loss: 0.0435 - accuracy: 0.9872 - val_loss: 0.0973 - val_accuracy: 0.9872\n",
      "Epoch 10/10\n",
      "1688/1688 [==============================] - 378s 224ms/step - loss: 0.0383 - accuracy: 0.9885 - val_loss: 0.0772 - val_accuracy: 0.9882\n"
     ]
    }
   ],
   "source": [
    "model.compile(optimizer='adam',loss='sparse_categorical_crossentropy',metrics=['accuracy'])\n",
    "history=model.fit(x=x_train,y=y_train,validation_split=0.1,epochs=10)"
   ]
  },
  {
   "cell_type": "markdown",
   "id": "f484b1ae",
   "metadata": {},
   "source": [
    "### Plotting Training & Validation plots"
   ]
  },
  {
   "cell_type": "code",
   "execution_count": 57,
   "id": "85fbf8e5",
   "metadata": {},
   "outputs": [
    {
     "data": {
      "image/png": "[encoded data removed]",
      "text/plain": [
       "<Figure size 1440x432 with 2 Axes>"
      ]
     },
     "metadata": {
      "needs_background": "light"
     },
     "output_type": "display_data"
    }
   ],
   "source": [
    "acc = history.history['accuracy']\n",
    "val_acc = history.history['val_accuracy']\n",
    "loss = history.history['loss']\n",
    "val_loss = history.history['val_loss']\n",
    "epochs = range(len(acc))\n",
    "\n",
    "fig, ax = plt.subplots(nrows=1, ncols=2, figsize=(20, 6))\n",
    "ax[0].plot(epochs, acc, 'r', label='Training accuracy')\n",
    "ax[0].plot(epochs, val_acc, 'b', label='Validation accuracy')\n",
    "ax[0].legend(loc=0)\n",
    "ax[1].plot(epochs, loss, 'r', label='Training loss')\n",
    "ax[1].plot(epochs, val_loss, 'b', label='Validation loss')\n",
    "ax[1].legend(loc=0)\n",
    "\n",
    "plt.suptitle('Training and validation')\n",
    "plt.show()"
   ]
  },
  {
   "cell_type": "markdown",
   "id": "81d00e1a",
   "metadata": {},
   "source": [
    "### Evaluating the model"
   ]
  },
  {
   "cell_type": "code",
   "execution_count": 21,
   "id": "0aca039c",
   "metadata": {},
   "outputs": [
    {
     "name": "stdout",
     "output_type": "stream",
     "text": [
      "313/313 [==============================] - 11s 35ms/step - loss: 3.8638 - accuracy: 0.9850\n",
      "Test Loss 3.863802671432495\n",
      "Test Accuracy 0.9850000143051147\n"
     ]
    }
   ],
   "source": [
    "loss_and_acc=model.evaluate(x_test,y_test)\n",
    "print(\"Test Loss\", loss_and_acc[0])\n",
    "print(\"Test Accuracy\", loss_and_acc[1])"
   ]
  },
  {
   "cell_type": "markdown",
   "id": "c92cdbe8",
   "metadata": {},
   "source": [
    "### Testing the model"
   ]
  },
  {
   "cell_type": "code",
   "execution_count": 51,
   "id": "714d85fa",
   "metadata": {},
   "outputs": [
    {
     "name": "stdout",
     "output_type": "stream",
     "text": [
      "313/313 [==============================] - 7s 23ms/step\n",
      "Predicted Value:  6\n",
      "Successful prediction\n"
     ]
    },
    {
     "data": {
      "image/png": "[encoded data removed]",
      "text/plain": [
       "<Figure size 432x288 with 1 Axes>"
      ]
     },
     "metadata": {
      "needs_background": "light"
     },
     "output_type": "display_data"
    }
   ],
   "source": [
    "plt.imshow(x_test[22],cmap='gray_r')\n",
    "plt.title('Actual Value: {}'.format(y_test[22]))\n",
    "prediction=model.predict(x_test)\n",
    "plt.axis('off')\n",
    "print('Predicted Value: ',np.argmax(prediction[22]))\n",
    "if(y_test[22]==(np.argmax(prediction[22]))):\n",
    "     print('Successful prediction')\n",
    "else:\n",
    "     print('Unsuccessful prediction')"
   ]
  },
  {
   "cell_type": "code",
   "execution_count": 52,
   "id": "e3e7d12e",
   "metadata": {},
   "outputs": [
    {
     "name": "stdout",
     "output_type": "stream",
     "text": [
      "313/313 [==============================] - 8s 25ms/step\n",
      "Predicted Value:  9\n",
      "Successful prediction\n"
     ]
    },
    {
     "data": {
      "image/png": "[encoded data removed]",
      "text/plain": [
       "<Figure size 432x288 with 1 Axes>"
      ]
     },
     "metadata": {
      "needs_background": "light"
     },
     "output_type": "display_data"
    }
   ],
   "source": [
    "plt.imshow(x_test[7],cmap='gray_r')\n",
    "plt.title('Actual Value: {}'.format(y_test[7]))\n",
    "prediction=model.predict(x_test)\n",
    "plt.axis('off')\n",
    "print('Predicted Value: ',np.argmax(prediction[7]))\n",
    "if(y_test[7]==(np.argmax(prediction[7]))):\n",
    "    print('Successful prediction')\n",
    "else:\n",
    "    print('Unsuccessful prediction')"
   ]
  },
  {
   "cell_type": "markdown",
   "id": "685e6c5d",
   "metadata": {},
   "source": [
    "### Thank You"
   ]
  }
 ],
 "metadata": {
  "kernelspec": {
   "display_name": "Python 3 (ipykernel)",
   "language": "python",
   "name": "python3"
  },
  "language_info": {
   "codemirror_mode": {
    "name": "ipython",
    "version": 3
   },
   "file_extension": ".py",
   "mimetype": "text/x-python",
   "name": "python",
   "nbconvert_exporter": "python",
   "pygments_lexer": "ipython3",
   "version": "3.9.7"
  }
 },
 "nbformat": 4,
 "nbformat_minor": 5
}
